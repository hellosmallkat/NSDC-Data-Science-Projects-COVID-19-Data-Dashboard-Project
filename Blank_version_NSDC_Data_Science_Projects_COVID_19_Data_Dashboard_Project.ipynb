{
  "cells": [
    {
      "cell_type": "markdown",
      "metadata": {
        "id": "view-in-github",
        "colab_type": "text"
      },
      "source": [
        "<a href=\"https://colab.research.google.com/github/hellosmallkat/NSDC-Data-Science-Projects-COVID-19-Data-Dashboard-Project/blob/main/Blank_version_NSDC_Data_Science_Projects_COVID_19_Data_Dashboard_Project.ipynb\" target=\"_parent\"><img src=\"https://colab.research.google.com/assets/colab-badge.svg\" alt=\"Open In Colab\"/></a>"
      ]
    },
    {
      "cell_type": "markdown",
      "id": "f9fc5051",
      "metadata": {
        "id": "f9fc5051"
      },
      "source": [
        "<h1 align=\"center\">\n",
        "    NSDC Data Science Projects\n",
        "</h1>\n",
        "  \n",
        "<h2 align=\"center\">\n",
        "    Project: DATA VISUALIZATION PROJECT - COVID-19 ANALYSIS\n",
        "</h2>\n",
        "\n",
        "<h3 align=\"center\">\n",
        "    Name: Insert Your Name Here\n",
        "</h3>"
      ]
    },
    {
      "cell_type": "markdown",
      "id": "182b2af5",
      "metadata": {
        "id": "182b2af5"
      },
      "source": [
        "### **Project Description**\n",
        "The NSDC DSPs provide virtual collaboration and networking opportunities for data science learners of all ages and skill levels, aiming to develop new data pre-processing, visualization, storytelling, and programming skills. Studying COVID-19 data is crucial as it helps us understand the virus's spread, the effectiveness of interventions, and its overall impact on populations. Data visualization plays a key role in transforming raw data into meaningful insights, making complex information more accessible and understandable.\n",
        "\n",
        "In this project, we will explore various datasets related to COVID-19, including vaccination rates, infection rates, and death counts. We will employ descriptive statistics to summarize the data, use data visualization techniques to uncover trends and patterns, and interpret these visualizations to derive actionable insights. By the end of this project, students will have a better understanding of how to handle large datasets, apply statistical methods, and create compelling visual narratives.\n",
        "\n",
        "Our goal is to equip you with the skills needed to analyze and interpret real-world data, developing a deeper appreciation for the power of data science in addressing global challenges.\n",
        "\n",
        "\n",
        "### **Goals**\n",
        "- **Data Analysis**: Analyze vaccination rates, infection rates, and death counts.\n",
        "- **Visualization**: Create visualizations to uncover trends and patterns.\n",
        "- **Interpretation**: Derive actionable insights from the data.\n",
        "\n",
        "### **Tools and Libraries**\n",
        "- **Python**: Programming language\n",
        "- **Pandas**: Data manipulation\n",
        "- **Matplotlib/Seaborn**: Data visualization\n",
        "- **Plotly**: Interactive plots\n",
        "- **IPython Widgets**: Interactive elements\n",
        "\n",
        "**Note:** You are free to use other libraries apart from the ones we have recommended"
      ]
    },
    {
      "cell_type": "markdown",
      "id": "3430aeea",
      "metadata": {
        "id": "3430aeea"
      },
      "source": [
        "### **Please read before you begin your project**\n",
        "\n",
        "**Instructions: Google Colab Notebooks:**\n",
        "\n",
        "Google Colab is a free cloud service. It is a hosted Jupyter notebook service that requires no setup to use, while providing free access to computing resources. We will be using Google Colab for this project.\n",
        "\n",
        "In order to work within the Google Colab Notebook, **please start by clicking on \"File\" and then \"Save a copy in Drive.\"** This will save a copy of the notebook in your personal Google Drive.\n",
        "\n",
        "Please rename the file to \"Capsule - COVID Data Visualization - Your Full Name.\" Once this project is completed, you will be prompted to share your file with the National Student Data Corps (NSDC) Project Leaders.\n",
        "\n",
        "You can now start working on the project. :)"
      ]
    },
    {
      "cell_type": "markdown",
      "id": "3ce564b5",
      "metadata": {
        "id": "3ce564b5"
      },
      "source": [
        "**Additional resources**\n",
        "\n",
        "We would utilise the seaborn library to create visualizations in this notebook. To learn more about the Seaborn library visit: https://seaborn.pydata.org/\n",
        "\n",
        "Please feel free to refer to the Northeast Big Data Innovation Hub [Flashcard series](https://www.youtube.com/playlist?list=PLNs9ZO9jGtUDxKBBZa5ImsV9h9hlLwJWH) to learn about various visualization techniques and understand the ways to analyze the data effectively.\n"
      ]
    },
    {
      "cell_type": "markdown",
      "id": "5a12d45e",
      "metadata": {
        "id": "5a12d45e"
      },
      "source": [
        "# Milestone #1: Data Preparation & Exploration\n"
      ]
    },
    {
      "cell_type": "markdown",
      "id": "f4f47b4d",
      "metadata": {
        "id": "f4f47b4d"
      },
      "source": [
        "**Dataset Details:**\n",
        "The dataset used in this project includes various aspects of COVID-19 data such as vaccination rates, infection rates, and death counts. The data is sourced from reliable institutions such as the World Health Organization (WHO), Johns Hopkins University, and other governmental health agencies. These datasets provide a comprehensive view of the pandemic's impact across different regions and time periods.\n",
        "\n"
      ]
    },
    {
      "cell_type": "markdown",
      "id": "f4b352e1",
      "metadata": {
        "id": "f4b352e1"
      },
      "source": [
        "**Step 1:**\n",
        "\n",
        "Setting up libraries and installing packages\n",
        "\n",
        "To install a library:\n",
        "```python\n",
        " import <library> as <shortname>\n",
        "```\n",
        "We use a *short name* since it is easier to refer to the package to access functions and also to refer to subpackages within the library.\n"
      ]
    },
    {
      "cell_type": "code",
      "execution_count": null,
      "id": "bd0a8e5e",
      "metadata": {
        "id": "bd0a8e5e"
      },
      "outputs": [],
      "source": [
        "import pandas as pd\n",
        "import numpy as np\n",
        "import plotly.express as px\n",
        "import matplotlib.pyplot as plt\n",
        "import seaborn as sns"
      ]
    },
    {
      "cell_type": "markdown",
      "id": "e59aea7b",
      "metadata": {
        "id": "e59aea7b"
      },
      "source": [
        "These are the libraries that will help us throughout this project. We encourage you to read more about the important and most commonly used packages like Pandas, Numpy, MatplotLib and Seaborn, and write a few lines in your own words about what they do. [You may use the Data Science Resource Repository (DSRR) to find resources to get started!](https://nebigdatahub.org/nsdc/data-science-resource-repository/)\n",
        "\n"
      ]
    },
    {
      "cell_type": "markdown",
      "source": [
        "**TO DO:** Write 3-5 sentences about commonly used packages and what they're used for.\n",
        "\n",
        ">*  "
      ],
      "metadata": {
        "id": "QsM9bAhovdjw"
      },
      "id": "QsM9bAhovdjw"
    },
    {
      "cell_type": "markdown",
      "id": "a12d74d9",
      "metadata": {
        "id": "a12d74d9"
      },
      "source": [
        "**Step 2:**\n",
        "\n",
        "Let’s access our data. We will be using the COVID dataset. The dataset contains COVID data from around 187 countries.\n",
        "Link to the dataset: [Covid-19 dataset](https://www.kaggle.com/datasets/imdevskp/corona-virus-report)\n",
        "\n",
        "\n",
        "We will use Pandas to read the data from the csv file using the `read_csv` function. This function returns a Pandas dataframe. We will store this dataframe in a variable called `data`.\n",
        "\n",
        "**Note:** Fill in the blanks to complete the code below."
      ]
    },
    {
      "cell_type": "code",
      "execution_count": null,
      "id": "d4ae218b",
      "metadata": {
        "id": "d4ae218b"
      },
      "outputs": [],
      "source": [
        "# TODO: Read the data using pandas read_csv function\n",
        "data = pd.read_csv(________)"
      ]
    },
    {
      "cell_type": "markdown",
      "id": "124c2370",
      "metadata": {
        "id": "124c2370"
      },
      "source": [
        "To look at some data values, we can use the `head` function to look at the first five values"
      ]
    },
    {
      "cell_type": "code",
      "execution_count": null,
      "id": "402d5eb4",
      "metadata": {
        "id": "402d5eb4",
        "scrolled": true
      },
      "outputs": [],
      "source": [
        "# TODO: Print the first 5 rows of the data using the head function of Pandas\n",
        "data._____()"
      ]
    },
    {
      "cell_type": "markdown",
      "id": "53634875",
      "metadata": {
        "id": "53634875"
      },
      "source": [
        "Now, let's take an initial look at the data including some descriptive statistics. Learn more about descriptive statistics with [this NSDC Flashcard video series.](https://www.youtube.com/playlist?list=PLNs9ZO9jGtUDxKBBZa5ImsV9h9hlLwJWH)\n",
        "\n",
        "We will use the `describe` function to review the data."
      ]
    },
    {
      "cell_type": "code",
      "execution_count": null,
      "id": "e23f1d62",
      "metadata": {
        "id": "e23f1d62"
      },
      "outputs": [],
      "source": [
        "# TODO: Describe the data using describe function of pandas\n",
        "data._____()"
      ]
    },
    {
      "cell_type": "markdown",
      "source": [
        "**Step 3:** </br>\n",
        "Let's take a look at how different variables of our data are correlated with each other.\n",
        "We can use the `corr` function for this.\n",
        "To plot these relationships, we can use a `pairplot`. You can read more about this method [here](https://seaborn.pydata.org/generated/seaborn.pairplot.html).\n"
      ],
      "metadata": {
        "id": "IoqoKctCDPbP"
      },
      "id": "IoqoKctCDPbP"
    },
    {
      "cell_type": "code",
      "execution_count": null,
      "id": "d1f4fce4",
      "metadata": {
        "id": "d1f4fce4"
      },
      "outputs": [],
      "source": [
        "# TODO: Plot a correlation/pairplot using Seaborn library in Python\n",
        "print(data._____)\n",
        "sns._____(_____)\n",
        "plt.show"
      ]
    },
    {
      "cell_type": "markdown",
      "id": "e4add74d",
      "metadata": {
        "id": "e4add74d"
      },
      "source": [
        "# Milestone #2: Geographic Analysis\n"
      ]
    },
    {
      "cell_type": "markdown",
      "id": "75cd133f",
      "metadata": {
        "id": "75cd133f"
      },
      "source": [
        "**Step 1:** Let us do some analysis on the [WHO Regions of the Americas](https://www.paho.org/en/countries-and-centers). To do so, we will need to create a subset of our master dataset.\n",
        "To create a subset of the main dataset, we will be using the slicing method.\n",
        "\n",
        "**Why focus on the Americas?**\n",
        "\n",
        "The Americas were chosen for this analysis due to their diverse responses to the COVID-19 pandemic, varying healthcare infrastructure, and different socio-economic impacts. This regional focus allows us to compare and contrast the effectiveness of different strategies and the overall impact of the pandemic in countries with different characteristics.\n",
        "\n",
        "Let's understand why the Americas are important by visualizing various features from the dataset."
      ]
    },
    {
      "cell_type": "code",
      "source": [
        "# TODO: Aggregate data by WHO Region\n",
        "who_region_data = data.groupby(_____).sum().reset_index()\n",
        "\n",
        "# TODO: Plot the trends for confirmed cases, deaths, and recoveries across WHO regions\n",
        "fig, axes = plt.subplots(3, 1, figsize=(12, 18))\n",
        "\n",
        "sns.barplot(ax=axes[0], x=_____, y='Confirmed', data=who_region_data)\n",
        "axes[0].set_title('Confirmed Cases by WHO Region')\n",
        "axes[0].set_ylabel('_____')\n",
        "\n",
        "sns.barplot(ax=axes[1], x=_____, y='Deaths', data=who_region_data)\n",
        "axes[1].set_title('Deaths by WHO Region')\n",
        "axes[1].set_ylabel('_____')\n",
        "\n",
        "sns.barplot(ax=axes[2], x=_____, y='Recovered', data=who_region_data)\n",
        "axes[2].set_title('Recoveries by WHO Region')\n",
        "axes[2].set_ylabel('_____')\n",
        "\n",
        "plt.tight_layout()\n",
        "plt.show()"
      ],
      "metadata": {
        "id": "qhKwBNPBiPsw"
      },
      "id": "qhKwBNPBiPsw",
      "execution_count": null,
      "outputs": []
    },
    {
      "cell_type": "code",
      "execution_count": null,
      "id": "9bf9ef02",
      "metadata": {
        "id": "9bf9ef02"
      },
      "outputs": [],
      "source": [
        "#TODO: Filter the data for the Americas region\n",
        "d_america = data[data['WHO Region'] == '______'].sort_values(by='Confirmed', ascending = False)\n",
        "new_data = d_america.head(__) #top 10 countries\n",
        "new_data"
      ]
    },
    {
      "cell_type": "markdown",
      "id": "2de74d40",
      "metadata": {
        "id": "2de74d40"
      },
      "source": [
        "**Step 2**: Calculate descriptive statistics of our new data set (for only Americas i.e. North and South America)"
      ]
    },
    {
      "cell_type": "code",
      "execution_count": null,
      "id": "eb462cee",
      "metadata": {
        "id": "eb462cee"
      },
      "outputs": [],
      "source": [
        "#TODO: Calculate the descriptive statistics for new_data. Review how we did this above if you need a refresher!\n"
      ]
    },
    {
      "cell_type": "markdown",
      "source": [
        "# Milestone #3: Data Visualizations"
      ],
      "metadata": {
        "id": "U6iOKdzTyZNa"
      },
      "id": "U6iOKdzTyZNa"
    },
    {
      "cell_type": "markdown",
      "id": "bd1190fa",
      "metadata": {
        "id": "bd1190fa"
      },
      "source": [
        "**Step 1:** Let us create some plots and graphs to further visualize our data. We will start with a barplot for which we will use the Seaborn library.\n",
        "\n",
        "Need a refresher on bar charts? [Review this video for a quick reminder](https://www.youtube.com/watch?v=Y_HCxHOy4Sw&list=PLNs9ZO9jGtUDxKBBZa5ImsV9h9hlLwJWH&index=28&pp=iAQB)!"
      ]
    },
    {
      "cell_type": "code",
      "execution_count": null,
      "id": "86eeafd8",
      "metadata": {
        "id": "86eeafd8"
      },
      "outputs": [],
      "source": [
        "#TODO: Plot a bar chart for Active cases for each Country/Region for the top 10 countries\n",
        "active = new_data[['________','________']].sort_values(by='Active',ascending=False)\n",
        "#creating a dataframe with countries and active cases in decreasing order\n",
        "sns.barplot(y='Country/Region',x='Active',______)"
      ]
    },
    {
      "cell_type": "markdown",
      "source": [
        "**TO DO:** Review the above chart and write 2-5 sentences about your interpretation.\n",
        " </br>Note: When interpreting graphs, look for key trends and patterns. Use specific numbers to back up your observations. For example, if you notice a peak in infection rates, mention the exact date and value. Compare different regions or time periods to highlight significant differences or similarities. Your interpretation should provide a clear narrative that explains what the data shows and why it is important.\n",
        "\n",
        ">*  \n"
      ],
      "metadata": {
        "id": "TV6Q1gx5z4_b"
      },
      "id": "TV6Q1gx5z4_b"
    },
    {
      "cell_type": "markdown",
      "id": "847a622d",
      "metadata": {
        "id": "847a622d"
      },
      "source": [
        "**Step 2:** Now, we will plot a double bar chart to compare Confirmed and Recovered COVID Cases in different countries. You can learn more about grouped bar charts here:\n",
        "https://www.geeksforgeeks.org/plotting-multiple-bar-charts-using-matplotlib-in-python/."
      ]
    },
    {
      "cell_type": "code",
      "execution_count": null,
      "id": "55f22554",
      "metadata": {
        "id": "55f22554"
      },
      "outputs": [],
      "source": [
        "#TODO: plot a double bar chart\n",
        "plt.figure(figsize=(10, 5))\n",
        "X_axis = np.arange(len(new_data['______']))\n",
        "plt.bar(X_axis - 0.2,new_data['Confirmed'] , 0.4, label = '______')\n",
        "plt.bar(X_axis + 0.2, new_data['Recovered'], 0.4, label = '______')\n",
        "\n",
        "plt.xticks(X_axis,new_data['Country/Region'] )\n",
        "plt.xlabel(\"________\")\n",
        "plt.ylabel(\"________\")\n",
        "plt.title(\"_____________\")\n",
        "\n",
        "plt.legend()\n",
        "plt.show()"
      ]
    },
    {
      "cell_type": "markdown",
      "source": [
        "**TO DO:** Review the above chart and write 2-5 sentences about your interpretation.\n",
        "\n",
        ">*  \n"
      ],
      "metadata": {
        "id": "eNDWLzq11GRs"
      },
      "id": "eNDWLzq11GRs"
    },
    {
      "cell_type": "markdown",
      "id": "50c63a34",
      "metadata": {
        "id": "50c63a34"
      },
      "source": [
        "**Step 3:** Now, let's plot a pie chart. [Click here to review when a pie chart should be used!](https://www.youtube.com/watch?v=AqqA3cP1zGo&list=PLNs9ZO9jGtUDxKBBZa5ImsV9h9hlLwJWH&index=30&pp=iAQB)\n",
        "<br> For plotting a pie chart we will be using the matplotlib package. To learn more, visit: https://matplotlib.org/"
      ]
    },
    {
      "cell_type": "code",
      "execution_count": null,
      "id": "0526a989",
      "metadata": {
        "id": "0526a989"
      },
      "outputs": [],
      "source": [
        "#TODO: Plot a pie chart for the top 10 countries to show the Distributition of Recovered COVID Cases\n",
        "plt.figure(figsize=(8,8))\n",
        "patches, text, autotexts = plt.pie(new_data['Recovered'], labels = new_data['________'],autopct=\"%0.2f%%\", pctdistance=0.8)\n",
        "plt.title(\"____________\") #Hint: Check the TODO statement!\n",
        "plt.axis('equal')\n",
        "plt.legend(patches,new_data['_________'] )\n",
        "plt.show()"
      ]
    },
    {
      "cell_type": "markdown",
      "source": [
        "**TO DO:** Review the above chart and write 2-5 sentences about your interpretation.\n",
        "\n",
        ">*  \n"
      ],
      "metadata": {
        "id": "DTCCKU-Q5Nv7"
      },
      "id": "DTCCKU-Q5Nv7"
    },
    {
      "cell_type": "markdown",
      "id": "49d97af6",
      "metadata": {
        "id": "49d97af6"
      },
      "source": [
        "**Step 4:** Let us compare Active cases in the Americas using a Donut Chart.\n",
        "You can also learn more about donut charts in Python here: https://matplotlib.org/stable/gallery/pie_and_polar_charts/pie_and_donut_labels.html\n",
        "\n",
        "Feel free to experiment with parameters like colors, explosions, etc. to make it more readable."
      ]
    },
    {
      "cell_type": "code",
      "execution_count": null,
      "id": "86dcf745",
      "metadata": {
        "id": "86dcf745"
      },
      "outputs": [],
      "source": [
        "# TODO: Plot a donut chart for the top 10 countries\n",
        "x = new_data['_____'].to_list()\n",
        "labels = new_data['_____n']\n",
        "# colors - feel free to experiment!\n",
        "colors = ['#0000FF','#FF0000',  '#FFFF00',\n",
        "          '#FFA500','#ADFF2F']\n",
        "# explosion\n",
        "explode = (0.05, 0.05, 0.05, 0.05, 0.05, 0.05, 0.05, 0.05, 0.05, 0.05)\n",
        "\n",
        "# Pie Chart\n",
        "plt.pie(x, colors=colors, labels=labels,\n",
        "        autopct='%1.1f%%', pctdistance=0.85,\n",
        "        explode=explode)\n",
        "\n",
        "# draw circle\n",
        "centre_circle = plt.Circle((0, 0), 0.70, fc='white')\n",
        "fig = plt.gcf()\n",
        "\n",
        "# Adding Circle in Pie chart\n",
        "fig.gca().add_artist(centre_circle)\n",
        "\n",
        "# Adding Title of chart\n",
        "plt.title('_________')\n",
        "\n",
        "# Displaying Chart\n",
        "plt.show()"
      ]
    },
    {
      "cell_type": "markdown",
      "source": [
        "**TO DO:** Review the above chart and write 2-5 sentences about your interpretation.\n",
        "\n",
        ">*  \n"
      ],
      "metadata": {
        "id": "r3wdsglA56lo"
      },
      "id": "r3wdsglA56lo"
    },
    {
      "cell_type": "markdown",
      "id": "78c69cae",
      "metadata": {
        "id": "78c69cae"
      },
      "source": [
        "**Step 5:** Our next visualization will be a Heatmap ([What is a heatmap?](https://www.youtube.com/watch?v=MuHsSH590WY&list=PLNs9ZO9jGtUDxKBBZa5ImsV9h9hlLwJWH&index=33&pp=iAQB)). One of the ways to create these are Choropleth. We will be plotting a geospatial heatmap which is used to represent the density of distribution of data points on a map. <br>\n",
        "<br> Choropleth maps can be plotted using plotly package in Python. To learn more about it visit: https://plotly.com/python/choropleth-maps/"
      ]
    },
    {
      "cell_type": "code",
      "execution_count": null,
      "id": "fa7c23c1",
      "metadata": {
        "colab": {
          "base_uri": "https://localhost:8080/",
          "height": 542
        },
        "id": "fa7c23c1",
        "outputId": "9f0d7f32-36df-4f48-a9f8-65c7ba176ca4"
      },
      "outputs": [
        {
          "data": {
            "text/html": [
              "<html>\n",
              "<head><meta charset=\"utf-8\" /></head>\n",
              "<body>\n",
              "    <div>            <script src=\"https://cdnjs.cloudflare.com/ajax/libs/mathjax/2.7.5/MathJax.js?config=TeX-AMS-MML_SVG\"></script><script type=\"text/javascript\">if (window.MathJax && window.MathJax.Hub && window.MathJax.Hub.Config) {window.MathJax.Hub.Config({SVG: {font: \"STIX-Web\"}});}</script>                <script type=\"text/javascript\">window.PlotlyConfig = {MathJaxConfig: 'local'};</script>\n",
              "        <script charset=\"utf-8\" src=\"https://cdn.plot.ly/plotly-2.24.1.min.js\"></script>                <div id=\"b221dc1a-22a5-4279-b9b8-06fe8ebe0d29\" class=\"plotly-graph-div\" style=\"height:525px; width:100%;\"></div>            <script type=\"text/javascript\">                                    window.PLOTLYENV=window.PLOTLYENV || {};                                    if (document.getElementById(\"b221dc1a-22a5-4279-b9b8-06fe8ebe0d29\")) {                    Plotly.newPlot(                        \"b221dc1a-22a5-4279-b9b8-06fe8ebe0d29\",                        [{\"coloraxis\":\"coloraxis\",\"geo\":\"geo\",\"hovertemplate\":\"\\u003cb\\u003e%{hovertext}\\u003c\\u002fb\\u003e\\u003cbr\\u003e\\u003cbr\\u003eCountry\\u002fRegion=%{location}\\u003cbr\\u003eConfirmed=%{z}\\u003cextra\\u003e\\u003c\\u002fextra\\u003e\",\"hovertext\":[\"US\",\"Brazil\",\"Mexico\",\"Peru\",\"Chile\",\"Colombia\",\"Argentina\",\"Canada\",\"Ecuador\",\"Bolivia\"],\"locationmode\":\"country names\",\"locations\":[\"US\",\"Brazil\",\"Mexico\",\"Peru\",\"Chile\",\"Colombia\",\"Argentina\",\"Canada\",\"Ecuador\",\"Bolivia\"],\"name\":\"\",\"z\":[4290259,2442375,395489,389717,347923,257101,167416,116458,81161,71181],\"type\":\"choropleth\"}],                        {\"template\":{\"data\":{\"histogram2dcontour\":[{\"type\":\"histogram2dcontour\",\"colorbar\":{\"outlinewidth\":0,\"ticks\":\"\"},\"colorscale\":[[0.0,\"#0d0887\"],[0.1111111111111111,\"#46039f\"],[0.2222222222222222,\"#7201a8\"],[0.3333333333333333,\"#9c179e\"],[0.4444444444444444,\"#bd3786\"],[0.5555555555555556,\"#d8576b\"],[0.6666666666666666,\"#ed7953\"],[0.7777777777777778,\"#fb9f3a\"],[0.8888888888888888,\"#fdca26\"],[1.0,\"#f0f921\"]]}],\"choropleth\":[{\"type\":\"choropleth\",\"colorbar\":{\"outlinewidth\":0,\"ticks\":\"\"}}],\"histogram2d\":[{\"type\":\"histogram2d\",\"colorbar\":{\"outlinewidth\":0,\"ticks\":\"\"},\"colorscale\":[[0.0,\"#0d0887\"],[0.1111111111111111,\"#46039f\"],[0.2222222222222222,\"#7201a8\"],[0.3333333333333333,\"#9c179e\"],[0.4444444444444444,\"#bd3786\"],[0.5555555555555556,\"#d8576b\"],[0.6666666666666666,\"#ed7953\"],[0.7777777777777778,\"#fb9f3a\"],[0.8888888888888888,\"#fdca26\"],[1.0,\"#f0f921\"]]}],\"heatmap\":[{\"type\":\"heatmap\",\"colorbar\":{\"outlinewidth\":0,\"ticks\":\"\"},\"colorscale\":[[0.0,\"#0d0887\"],[0.1111111111111111,\"#46039f\"],[0.2222222222222222,\"#7201a8\"],[0.3333333333333333,\"#9c179e\"],[0.4444444444444444,\"#bd3786\"],[0.5555555555555556,\"#d8576b\"],[0.6666666666666666,\"#ed7953\"],[0.7777777777777778,\"#fb9f3a\"],[0.8888888888888888,\"#fdca26\"],[1.0,\"#f0f921\"]]}],\"heatmapgl\":[{\"type\":\"heatmapgl\",\"colorbar\":{\"outlinewidth\":0,\"ticks\":\"\"},\"colorscale\":[[0.0,\"#0d0887\"],[0.1111111111111111,\"#46039f\"],[0.2222222222222222,\"#7201a8\"],[0.3333333333333333,\"#9c179e\"],[0.4444444444444444,\"#bd3786\"],[0.5555555555555556,\"#d8576b\"],[0.6666666666666666,\"#ed7953\"],[0.7777777777777778,\"#fb9f3a\"],[0.8888888888888888,\"#fdca26\"],[1.0,\"#f0f921\"]]}],\"contourcarpet\":[{\"type\":\"contourcarpet\",\"colorbar\":{\"outlinewidth\":0,\"ticks\":\"\"}}],\"contour\":[{\"type\":\"contour\",\"colorbar\":{\"outlinewidth\":0,\"ticks\":\"\"},\"colorscale\":[[0.0,\"#0d0887\"],[0.1111111111111111,\"#46039f\"],[0.2222222222222222,\"#7201a8\"],[0.3333333333333333,\"#9c179e\"],[0.4444444444444444,\"#bd3786\"],[0.5555555555555556,\"#d8576b\"],[0.6666666666666666,\"#ed7953\"],[0.7777777777777778,\"#fb9f3a\"],[0.8888888888888888,\"#fdca26\"],[1.0,\"#f0f921\"]]}],\"surface\":[{\"type\":\"surface\",\"colorbar\":{\"outlinewidth\":0,\"ticks\":\"\"},\"colorscale\":[[0.0,\"#0d0887\"],[0.1111111111111111,\"#46039f\"],[0.2222222222222222,\"#7201a8\"],[0.3333333333333333,\"#9c179e\"],[0.4444444444444444,\"#bd3786\"],[0.5555555555555556,\"#d8576b\"],[0.6666666666666666,\"#ed7953\"],[0.7777777777777778,\"#fb9f3a\"],[0.8888888888888888,\"#fdca26\"],[1.0,\"#f0f921\"]]}],\"mesh3d\":[{\"type\":\"mesh3d\",\"colorbar\":{\"outlinewidth\":0,\"ticks\":\"\"}}],\"scatter\":[{\"fillpattern\":{\"fillmode\":\"overlay\",\"size\":10,\"solidity\":0.2},\"type\":\"scatter\"}],\"parcoords\":[{\"type\":\"parcoords\",\"line\":{\"colorbar\":{\"outlinewidth\":0,\"ticks\":\"\"}}}],\"scatterpolargl\":[{\"type\":\"scatterpolargl\",\"marker\":{\"colorbar\":{\"outlinewidth\":0,\"ticks\":\"\"}}}],\"bar\":[{\"error_x\":{\"color\":\"#2a3f5f\"},\"error_y\":{\"color\":\"#2a3f5f\"},\"marker\":{\"line\":{\"color\":\"#E5ECF6\",\"width\":0.5},\"pattern\":{\"fillmode\":\"overlay\",\"size\":10,\"solidity\":0.2}},\"type\":\"bar\"}],\"scattergeo\":[{\"type\":\"scattergeo\",\"marker\":{\"colorbar\":{\"outlinewidth\":0,\"ticks\":\"\"}}}],\"scatterpolar\":[{\"type\":\"scatterpolar\",\"marker\":{\"colorbar\":{\"outlinewidth\":0,\"ticks\":\"\"}}}],\"histogram\":[{\"marker\":{\"pattern\":{\"fillmode\":\"overlay\",\"size\":10,\"solidity\":0.2}},\"type\":\"histogram\"}],\"scattergl\":[{\"type\":\"scattergl\",\"marker\":{\"colorbar\":{\"outlinewidth\":0,\"ticks\":\"\"}}}],\"scatter3d\":[{\"type\":\"scatter3d\",\"line\":{\"colorbar\":{\"outlinewidth\":0,\"ticks\":\"\"}},\"marker\":{\"colorbar\":{\"outlinewidth\":0,\"ticks\":\"\"}}}],\"scattermapbox\":[{\"type\":\"scattermapbox\",\"marker\":{\"colorbar\":{\"outlinewidth\":0,\"ticks\":\"\"}}}],\"scatterternary\":[{\"type\":\"scatterternary\",\"marker\":{\"colorbar\":{\"outlinewidth\":0,\"ticks\":\"\"}}}],\"scattercarpet\":[{\"type\":\"scattercarpet\",\"marker\":{\"colorbar\":{\"outlinewidth\":0,\"ticks\":\"\"}}}],\"carpet\":[{\"aaxis\":{\"endlinecolor\":\"#2a3f5f\",\"gridcolor\":\"white\",\"linecolor\":\"white\",\"minorgridcolor\":\"white\",\"startlinecolor\":\"#2a3f5f\"},\"baxis\":{\"endlinecolor\":\"#2a3f5f\",\"gridcolor\":\"white\",\"linecolor\":\"white\",\"minorgridcolor\":\"white\",\"startlinecolor\":\"#2a3f5f\"},\"type\":\"carpet\"}],\"table\":[{\"cells\":{\"fill\":{\"color\":\"#EBF0F8\"},\"line\":{\"color\":\"white\"}},\"header\":{\"fill\":{\"color\":\"#C8D4E3\"},\"line\":{\"color\":\"white\"}},\"type\":\"table\"}],\"barpolar\":[{\"marker\":{\"line\":{\"color\":\"#E5ECF6\",\"width\":0.5},\"pattern\":{\"fillmode\":\"overlay\",\"size\":10,\"solidity\":0.2}},\"type\":\"barpolar\"}],\"pie\":[{\"automargin\":true,\"type\":\"pie\"}]},\"layout\":{\"autotypenumbers\":\"strict\",\"colorway\":[\"#636efa\",\"#EF553B\",\"#00cc96\",\"#ab63fa\",\"#FFA15A\",\"#19d3f3\",\"#FF6692\",\"#B6E880\",\"#FF97FF\",\"#FECB52\"],\"font\":{\"color\":\"#2a3f5f\"},\"hovermode\":\"closest\",\"hoverlabel\":{\"align\":\"left\"},\"paper_bgcolor\":\"white\",\"plot_bgcolor\":\"#E5ECF6\",\"polar\":{\"bgcolor\":\"#E5ECF6\",\"angularaxis\":{\"gridcolor\":\"white\",\"linecolor\":\"white\",\"ticks\":\"\"},\"radialaxis\":{\"gridcolor\":\"white\",\"linecolor\":\"white\",\"ticks\":\"\"}},\"ternary\":{\"bgcolor\":\"#E5ECF6\",\"aaxis\":{\"gridcolor\":\"white\",\"linecolor\":\"white\",\"ticks\":\"\"},\"baxis\":{\"gridcolor\":\"white\",\"linecolor\":\"white\",\"ticks\":\"\"},\"caxis\":{\"gridcolor\":\"white\",\"linecolor\":\"white\",\"ticks\":\"\"}},\"coloraxis\":{\"colorbar\":{\"outlinewidth\":0,\"ticks\":\"\"}},\"colorscale\":{\"sequential\":[[0.0,\"#0d0887\"],[0.1111111111111111,\"#46039f\"],[0.2222222222222222,\"#7201a8\"],[0.3333333333333333,\"#9c179e\"],[0.4444444444444444,\"#bd3786\"],[0.5555555555555556,\"#d8576b\"],[0.6666666666666666,\"#ed7953\"],[0.7777777777777778,\"#fb9f3a\"],[0.8888888888888888,\"#fdca26\"],[1.0,\"#f0f921\"]],\"sequentialminus\":[[0.0,\"#0d0887\"],[0.1111111111111111,\"#46039f\"],[0.2222222222222222,\"#7201a8\"],[0.3333333333333333,\"#9c179e\"],[0.4444444444444444,\"#bd3786\"],[0.5555555555555556,\"#d8576b\"],[0.6666666666666666,\"#ed7953\"],[0.7777777777777778,\"#fb9f3a\"],[0.8888888888888888,\"#fdca26\"],[1.0,\"#f0f921\"]],\"diverging\":[[0,\"#8e0152\"],[0.1,\"#c51b7d\"],[0.2,\"#de77ae\"],[0.3,\"#f1b6da\"],[0.4,\"#fde0ef\"],[0.5,\"#f7f7f7\"],[0.6,\"#e6f5d0\"],[0.7,\"#b8e186\"],[0.8,\"#7fbc41\"],[0.9,\"#4d9221\"],[1,\"#276419\"]]},\"xaxis\":{\"gridcolor\":\"white\",\"linecolor\":\"white\",\"ticks\":\"\",\"title\":{\"standoff\":15},\"zerolinecolor\":\"white\",\"automargin\":true,\"zerolinewidth\":2},\"yaxis\":{\"gridcolor\":\"white\",\"linecolor\":\"white\",\"ticks\":\"\",\"title\":{\"standoff\":15},\"zerolinecolor\":\"white\",\"automargin\":true,\"zerolinewidth\":2},\"scene\":{\"xaxis\":{\"backgroundcolor\":\"#E5ECF6\",\"gridcolor\":\"white\",\"linecolor\":\"white\",\"showbackground\":true,\"ticks\":\"\",\"zerolinecolor\":\"white\",\"gridwidth\":2},\"yaxis\":{\"backgroundcolor\":\"#E5ECF6\",\"gridcolor\":\"white\",\"linecolor\":\"white\",\"showbackground\":true,\"ticks\":\"\",\"zerolinecolor\":\"white\",\"gridwidth\":2},\"zaxis\":{\"backgroundcolor\":\"#E5ECF6\",\"gridcolor\":\"white\",\"linecolor\":\"white\",\"showbackground\":true,\"ticks\":\"\",\"zerolinecolor\":\"white\",\"gridwidth\":2}},\"shapedefaults\":{\"line\":{\"color\":\"#2a3f5f\"}},\"annotationdefaults\":{\"arrowcolor\":\"#2a3f5f\",\"arrowhead\":0,\"arrowwidth\":1},\"geo\":{\"bgcolor\":\"white\",\"landcolor\":\"#E5ECF6\",\"subunitcolor\":\"white\",\"showland\":true,\"showlakes\":true,\"lakecolor\":\"white\"},\"title\":{\"x\":0.05},\"mapbox\":{\"style\":\"light\"}}},\"geo\":{\"domain\":{\"x\":[0.0,1.0],\"y\":[0.0,1.0]},\"center\":{}},\"coloraxis\":{\"colorbar\":{\"title\":{\"text\":\"Confirmed\"}},\"colorscale\":[[0.0,\"#0d0887\"],[0.1111111111111111,\"#46039f\"],[0.2222222222222222,\"#7201a8\"],[0.3333333333333333,\"#9c179e\"],[0.4444444444444444,\"#bd3786\"],[0.5555555555555556,\"#d8576b\"],[0.6666666666666666,\"#ed7953\"],[0.7777777777777778,\"#fb9f3a\"],[0.8888888888888888,\"#fdca26\"],[1.0,\"#f0f921\"]]},\"legend\":{\"tracegroupgap\":0},\"title\":{\"text\":\"Heatmap for Confirmed Cases\"}},                        {\"responsive\": true}                    ).then(function(){\n",
              "                            \n",
              "var gd = document.getElementById('b221dc1a-22a5-4279-b9b8-06fe8ebe0d29');\n",
              "var x = new MutationObserver(function (mutations, observer) {{\n",
              "        var display = window.getComputedStyle(gd).display;\n",
              "        if (!display || display === 'none') {{\n",
              "            console.log([gd, 'removed!']);\n",
              "            Plotly.purge(gd);\n",
              "            observer.disconnect();\n",
              "        }}\n",
              "}});\n",
              "\n",
              "// Listen for the removal of the full notebook cells\n",
              "var notebookContainer = gd.closest('#notebook-container');\n",
              "if (notebookContainer) {{\n",
              "    x.observe(notebookContainer, {childList: true});\n",
              "}}\n",
              "\n",
              "// Listen for the clearing of the current output cell\n",
              "var outputEl = gd.closest('.output');\n",
              "if (outputEl) {{\n",
              "    x.observe(outputEl, {childList: true});\n",
              "}}\n",
              "\n",
              "                        })                };                            </script>        </div>\n",
              "</body>\n",
              "</html>"
            ]
          },
          "metadata": {},
          "output_type": "display_data"
        }
      ],
      "source": [
        "# TODO: Plot a Heatmap below for total confirmed cases in the Americas\n",
        "fig = px.choropleth(new_data,\n",
        "                    locations= '________',\n",
        "                    locationmode='country names',\n",
        "                    color='Confirmed',\n",
        "                    hover_name='________',\n",
        "                    color_continuous_scale='plasma',\n",
        "                    title='________')\n",
        "\n",
        "# fig.update_geos(projection_type=\"natural earth\")\n",
        "\n",
        "fig.show()\n"
      ]
    },
    {
      "cell_type": "markdown",
      "source": [
        "**TO DO:** Review the above chart and write 2-5 sentences about your interpretation.\n",
        "\n",
        ">*  \n"
      ],
      "metadata": {
        "id": "UoBUkqwt67DW"
      },
      "id": "UoBUkqwt67DW"
    },
    {
      "cell_type": "markdown",
      "source": [
        "**Step 6:** Calculate mortality and recovery rates, aggregate your data by WHO region, and then plot these rates using a barplot.\n",
        "\n",
        "**Hint**: [Read this article to understand the formula we will be using](https://www.ncbi.nlm.nih.gov/pmc/articles/PMC9291733/) (we will use the one suggested by Battegay and their team)."
      ],
      "metadata": {
        "id": "m_UU7OxamKCp"
      },
      "id": "m_UU7OxamKCp"
    },
    {
      "cell_type": "code",
      "source": [
        "# Calculate mortality and recovery rates\n",
        "data['Mortality Rate'] = (data[_____] / data[_____]) * 100\n",
        "data['Recovery Rate'] = (data[_____] / data[_____]) * 100\n",
        "\n",
        "# Aggregate data by WHO Region\n",
        "# Ensure that non-numeric columns are not included in the mean calculation\n",
        "numeric_columns = ['Confirmed', 'Deaths', 'Recovered', 'Active', 'Mortality Rate', 'Recovery Rate']\n",
        "\n",
        "# Aggregate data by WHO Region\n",
        "who_region_rates = data.groupby('________')[numeric_columns].mean().reset_index()\n",
        "\n",
        "\n",
        "# Plot the mortality and recovery rates by WHO region\n",
        "fig, axes = plt.subplots(2, 1, figsize=(12, 12))\n",
        "\n",
        "sns.barplot(ax=axes[0], x='WHO Region', y='Mortality Rate', data=who_region_rates)\n",
        "axes[0].set_title('Mortality Rate by WHO Region')\n",
        "axes[0].set_ylabel('Mortality Rate (%)')\n",
        "\n",
        "#Review the code directly above and use it to help you fill in the following code for \"Recovery Rate\"\n",
        "sns.barplot(ax=axes[1], x='_______', y='_______', data=who_region_rates)\n",
        "axes[1].set_title('____________________')\n",
        "axes[1].set_ylabel('___________)')\n",
        "\n",
        "plt.tight_layout()\n",
        "plt.show()"
      ],
      "metadata": {
        "id": "Cll_XMpnl437"
      },
      "id": "Cll_XMpnl437",
      "execution_count": null,
      "outputs": []
    },
    {
      "cell_type": "markdown",
      "source": [
        "**TO DO:** Review the above chart and write 2-5 sentences about your interpretation.\n",
        "\n",
        ">*  \n"
      ],
      "metadata": {
        "id": "hKm2n31QcGmK"
      },
      "id": "hKm2n31QcGmK"
    },
    {
      "cell_type": "markdown",
      "id": "d6d373d7",
      "metadata": {
        "id": "d6d373d7"
      },
      "source": [
        "# Milestone #4: Self-Guided Analysis of a Different WHO Region (other than America)\n",
        "\n",
        "Choose any region within the dataset and create 3 different visualizations below. You may choose to use the same visualizations as above and compare your findings, or you may want to experiment with new visualizations.\n",
        "\n",
        "\n",
        "**Be sure to give your interpratations for each visualization you create.**\n",
        "\n",
        "Not sure which region to select? You may want to consider choosing a region that has a high mortality or recovery rate."
      ]
    },
    {
      "cell_type": "markdown",
      "source": [
        "**TO DO:** Which region are you choosing and why? Write 2-3 sentences explaining your reasoning below.\n",
        ">*  \n"
      ],
      "metadata": {
        "id": "_DMBMMandSF2"
      },
      "id": "_DMBMMandSF2"
    },
    {
      "cell_type": "markdown",
      "source": [
        "**TO DO:** Begin creating your visualizations below."
      ],
      "metadata": {
        "id": "YaTksoMDeLoY"
      },
      "id": "YaTksoMDeLoY"
    },
    {
      "cell_type": "code",
      "execution_count": null,
      "id": "9af10331",
      "metadata": {
        "id": "9af10331"
      },
      "outputs": [],
      "source": [
        "#Create Visualization #1 Here"
      ]
    },
    {
      "cell_type": "markdown",
      "source": [
        "**TO DO:** Review the above visualization and write 2-5 sentences about your interpretation.\n",
        "\n",
        ">*  \n"
      ],
      "metadata": {
        "id": "TATrfUK-egys"
      },
      "id": "TATrfUK-egys"
    },
    {
      "cell_type": "code",
      "source": [
        "#Create Visualization #2 Here"
      ],
      "metadata": {
        "id": "n0ur6I79eRXv"
      },
      "id": "n0ur6I79eRXv",
      "execution_count": null,
      "outputs": []
    },
    {
      "cell_type": "markdown",
      "source": [
        "**TO DO:** Review the above visualization and write 2-5 sentences about your interpretation.\n",
        "\n",
        ">*  \n"
      ],
      "metadata": {
        "id": "P_CiCNsyeaVB"
      },
      "id": "P_CiCNsyeaVB"
    },
    {
      "cell_type": "code",
      "source": [
        "#Create Visualization #3 Here"
      ],
      "metadata": {
        "id": "1eQrg099eSL_"
      },
      "id": "1eQrg099eSL_",
      "execution_count": null,
      "outputs": []
    },
    {
      "cell_type": "markdown",
      "source": [
        "**TO DO:** Review the above visualization and write 2-5 sentences about your interpretation.\n",
        "\n",
        ">*  \n",
        "\n",
        "**TO DO:** Did the different visualizations helped you to identify different insights? Share your thoughts below.\n",
        ">*  \n",
        "\n",
        "**TO DO:** Did you notice any significant similarities or differences between the regions you analyzed throughout this project? Share your thoughts below.\n",
        ">*  \n",
        "\n"
      ],
      "metadata": {
        "id": "iQVRgBJ6eans"
      },
      "id": "iQVRgBJ6eans"
    },
    {
      "cell_type": "markdown",
      "id": "94663768",
      "metadata": {
        "id": "94663768"
      },
      "source": [
        "\n",
        "\n",
        "---\n",
        "\n",
        "\n",
        "### **Conclusion**\n",
        "\n",
        "\n",
        "\n",
        "In this project, we explored various aspects of COVID-19 data through descriptive statistics and data visualization techniques. We analyzed datasets from different regions, with a specific focus on the Americas, to understand the pandemic's impact. By interpreting these visualizations, we derived meaningful insights that highlight the importance of data-driven decision-making in addressing global challenges like COVID-19. This project not only enhances your technical skills, but also underscores the crucial role of data science in tackling real-world issues."
      ]
    },
    {
      "cell_type": "markdown",
      "metadata": {
        "id": "UT8Rpdt4ZPeA"
      },
      "source": [
        "\n",
        "\n",
        "---\n",
        "\n",
        "\n",
        "## <font color='black'> **Thank you for completing the project!**</font>\n",
        "\n",
        "In order to receive a certificate of completion, please share this notebook with er3101@columbia.edu. Do reach out to us if you have any questions or concerns. We are here to help you learn and grow.\n"
      ],
      "id": "UT8Rpdt4ZPeA"
    }
  ],
  "metadata": {
    "colab": {
      "provenance": [],
      "include_colab_link": true
    },
    "kernelspec": {
      "display_name": "Python 3 (ipykernel)",
      "language": "python",
      "name": "python3"
    },
    "language_info": {
      "codemirror_mode": {
        "name": "ipython",
        "version": 3
      },
      "file_extension": ".py",
      "mimetype": "text/x-python",
      "name": "python",
      "nbconvert_exporter": "python",
      "pygments_lexer": "ipython3",
      "version": "3.9.12"
    }
  },
  "nbformat": 4,
  "nbformat_minor": 5
}